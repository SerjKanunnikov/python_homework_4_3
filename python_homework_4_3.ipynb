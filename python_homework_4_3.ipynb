{
 "cells": [
  {
   "cell_type": "code",
   "execution_count": 42,
   "metadata": {},
   "outputs": [],
   "source": [
    "import requests\n",
    "\n",
    "import pandas as pd\n",
    "import numpy as np\n",
    "import matplotlib.pyplot as plt\n",
    "\n",
    "%matplotlib inline\n",
    "\n",
    "from scipy.cluster.vq import whiten, kmeans2\n"
   ]
  },
  {
   "cell_type": "code",
   "execution_count": 43,
   "metadata": {},
   "outputs": [],
   "source": [
    "def call_api(uri, result_key):\n",
    "    json = {}\n",
    "    try:\n",
    "        json = requests.get(uri, headers={'X-Auth-Token': '0b5ccea9ddd142bc9ad15998feb039a3'}).json()\n",
    "        return json[result_key]\n",
    "    except:\n",
    "        print(json)\n",
    "        return None"
   ]
  },
  {
   "cell_type": "code",
   "execution_count": 44,
   "metadata": {},
   "outputs": [
    {
     "data": {
      "text/plain": [
       "[{'_links': {'fixtures': {'href': 'http://api.football-data.org/v1/teams/496/fixtures'},\n   'players': {'href': 'http://api.football-data.org/v1/teams/496/players'},\n   'self': {'href': 'http://api.football-data.org/v1/teams/496'}},\n  'code': None,\n  'crestUrl': 'http://upload.wikimedia.org/wikipedia/de/6/63/Rio_Ave_FC.svg',\n  'name': 'FC Rio Ave',\n  'shortName': 'Rio Ave',\n  'squadMarketValue': None},\n {'_links': {'fixtures': {'href': 'http://api.football-data.org/v1/teams/503/fixtures'},\n   'players': {'href': 'http://api.football-data.org/v1/teams/503/players'},\n   'self': {'href': 'http://api.football-data.org/v1/teams/503'}},\n  'code': 'FCP',\n  'crestUrl': 'http://upload.wikimedia.org/wikipedia/de/e/ed/FC_Porto_1922-2005.svg',\n  'name': 'FC Porto',\n  'shortName': 'Porto',\n  'squadMarketValue': None},\n {'_links': {'fixtures': {'href': 'http://api.football-data.org/v1/teams/583/fixtures'},\n   'players': {'href': 'http://api.football-data.org/v1/teams/583/players'},\n   'self': {'href': 'http://api.football-data.org/v1/teams/583'}},\n  'code': None,\n  'crestUrl': 'https://upload.wikimedia.org/wikipedia/pt/8/8c/Logo_Moreirense.svg',\n  'name': 'Moreirense FC',\n  'shortName': 'Moreirense',\n  'squadMarketValue': None},\n {'_links': {'fixtures': {'href': 'http://api.football-data.org/v1/teams/507/fixtures'},\n   'players': {'href': 'http://api.football-data.org/v1/teams/507/players'},\n   'self': {'href': 'http://api.football-data.org/v1/teams/507'}},\n  'code': None,\n  'crestUrl': 'http://upload.wikimedia.org/wikipedia/de/f/f2/FC_Pacos_de_Ferreira.svg',\n  'name': 'FC Paços de Ferreira',\n  'shortName': 'Ferreira',\n  'squadMarketValue': None},\n {'_links': {'fixtures': {'href': 'http://api.football-data.org/v1/teams/498/fixtures'},\n   'players': {'href': 'http://api.football-data.org/v1/teams/498/players'},\n   'self': {'href': 'http://api.football-data.org/v1/teams/498'}},\n  'code': 'SCP',\n  'crestUrl': 'https://upload.wikimedia.org/wikipedia/en/3/3e/Sporting_Clube_de_Portugal.png',\n  'name': 'Sporting CP',\n  'shortName': 'Sporting',\n  'squadMarketValue': None},\n {'_links': {'fixtures': {'href': 'http://api.football-data.org/v1/teams/504/fixtures'},\n   'players': {'href': 'http://api.football-data.org/v1/teams/504/players'},\n   'self': {'href': 'http://api.football-data.org/v1/teams/504'}},\n  'code': None,\n  'crestUrl': 'http://upload.wikimedia.org/wikipedia/de/3/3b/Marítimo_Funchal.svg',\n  'name': 'Maritimo Funchal',\n  'shortName': 'M Funchal',\n  'squadMarketValue': None},\n {'_links': {'fixtures': {'href': 'http://api.football-data.org/v1/teams/1049/fixtures'},\n   'players': {'href': 'http://api.football-data.org/v1/teams/1049/players'},\n   'self': {'href': 'http://api.football-data.org/v1/teams/1049'}},\n  'code': None,\n  'crestUrl': 'https://upload.wikimedia.org/wikipedia/commons/f/fc/Emblema_CD_Tondela.png',\n  'name': 'CD Tondela',\n  'shortName': 'Tondela',\n  'squadMarketValue': None},\n {'_links': {'fixtures': {'href': 'http://api.football-data.org/v1/teams/495/fixtures'},\n   'players': {'href': 'http://api.football-data.org/v1/teams/495/players'},\n   'self': {'href': 'http://api.football-data.org/v1/teams/495'}},\n  'code': 'SLB',\n  'crestUrl': 'http://upload.wikimedia.org/wikipedia/de/8/89/Logo_Benfica_Lissabon.svg',\n  'name': 'SL Benfica',\n  'shortName': 'Lisbon',\n  'squadMarketValue': None},\n {'_links': {'fixtures': {'href': 'http://api.football-data.org/v1/teams/810/fixtures'},\n   'players': {'href': 'http://api.football-data.org/v1/teams/810/players'},\n   'self': {'href': 'http://api.football-data.org/v1/teams/810'}},\n  'code': None,\n  'crestUrl': 'http://upload.wikimedia.org/wikipedia/en/4/40/Boavista_F.C._logo.svg',\n  'name': 'Boavista Porto FC',\n  'shortName': 'Boavista',\n  'squadMarketValue': None},\n {'_links': {'fixtures': {'href': 'http://api.football-data.org/v1/teams/712/fixtures'},\n   'players': {'href': 'http://api.football-data.org/v1/teams/712/players'},\n   'self': {'href': 'http://api.football-data.org/v1/teams/712'}},\n  'code': None,\n  'crestUrl': 'http://upload.wikimedia.org/wikipedia/de/b/b4/FC_Arouca.png',\n  'name': 'FC Arouca',\n  'shortName': 'Arouca',\n  'squadMarketValue': None},\n {'_links': {'fixtures': {'href': 'http://api.football-data.org/v1/teams/506/fixtures'},\n   'players': {'href': 'http://api.football-data.org/v1/teams/506/players'},\n   'self': {'href': 'http://api.football-data.org/v1/teams/506'}},\n  'code': None,\n  'crestUrl': 'http://upload.wikimedia.org/wikipedia/de/b/bd/Vitória_Setúbal.svg',\n  'name': 'Vitoria Setubal',\n  'shortName': 'Setubal',\n  'squadMarketValue': None},\n {'_links': {'fixtures': {'href': 'http://api.football-data.org/v1/teams/711/fixtures'},\n   'players': {'href': 'http://api.football-data.org/v1/teams/711/players'},\n   'self': {'href': 'http://api.football-data.org/v1/teams/711'}},\n  'code': None,\n  'crestUrl': 'http://upload.wikimedia.org/wikipedia/de/d/db/Belenenses_Lissabon.svg',\n  'name': 'C.F. Os Belenenses',\n  'shortName': 'B. Lisbon',\n  'squadMarketValue': None},\n {'_links': {'fixtures': {'href': 'http://api.football-data.org/v1/teams/502/fixtures'},\n   'players': {'href': 'http://api.football-data.org/v1/teams/502/players'},\n   'self': {'href': 'http://api.football-data.org/v1/teams/502'}},\n  'code': None,\n  'crestUrl': 'http://upload.wikimedia.org/wikipedia/de/8/81/Vitoria_Guimaraes.svg',\n  'name': 'Vitoria Guimaraes',\n  'shortName': 'Guimares',\n  'squadMarketValue': None},\n {'_links': {'fixtures': {'href': 'http://api.football-data.org/v1/teams/497/fixtures'},\n   'players': {'href': 'http://api.football-data.org/v1/teams/497/players'},\n   'self': {'href': 'http://api.football-data.org/v1/teams/497'}},\n  'code': None,\n  'crestUrl': 'http://upload.wikimedia.org/wikipedia/de/f/f3/Sporting_Clube_de_Braga.svg',\n  'name': 'Sporting Braga',\n  'shortName': 'Braga',\n  'squadMarketValue': None},\n {'_links': {'fixtures': {'href': 'http://api.football-data.org/v1/teams/582/fixtures'},\n   'players': {'href': 'http://api.football-data.org/v1/teams/582/players'},\n   'self': {'href': 'http://api.football-data.org/v1/teams/582'}},\n  'code': None,\n  'crestUrl': 'http://upload.wikimedia.org/wikipedia/de/1/14/GD_Estoril_Praia.svg',\n  'name': 'GD Estoril Praia',\n  'shortName': 'Estoril',\n  'squadMarketValue': None},\n {'_links': {'fixtures': {'href': 'http://api.football-data.org/v1/teams/500/fixtures'},\n   'players': {'href': 'http://api.football-data.org/v1/teams/500/players'},\n   'self': {'href': 'http://api.football-data.org/v1/teams/500'}},\n  'code': None,\n  'crestUrl': None,\n  'name': 'Feirense',\n  'shortName': None,\n  'squadMarketValue': None},\n {'_links': {'fixtures': {'href': 'http://api.football-data.org/v1/teams/501/fixtures'},\n   'players': {'href': 'http://api.football-data.org/v1/teams/501/players'},\n   'self': {'href': 'http://api.football-data.org/v1/teams/501'}},\n  'code': None,\n  'crestUrl': 'http://upload.wikimedia.org/wikipedia/de/e/ee/Nacional_Funchal.svg',\n  'name': 'Nacional Funchal',\n  'shortName': 'Funchal',\n  'squadMarketValue': None},\n {'_links': {'fixtures': {'href': 'http://api.football-data.org/v1/teams/1103/fixtures'},\n   'players': {'href': 'http://api.football-data.org/v1/teams/1103/players'},\n   'self': {'href': 'http://api.football-data.org/v1/teams/1103'}},\n  'code': None,\n  'crestUrl': 'https://upload.wikimedia.org/wikipedia/en/0/05/G_D_Chaves.png',\n  'name': 'G.D. Chaves',\n  'shortName': 'Chaves',\n  'squadMarketValue': None}]"
      ]
     },
     "execution_count": 44,
     "metadata": {},
     "output_type": "execute_result"
    }
   ],
   "source": [
    "teams = call_api('http://api.football-data.org/v1/soccerseasons/439/teams', 'teams')\n",
    "teams"
   ]
  },
  {
   "cell_type": "code",
   "execution_count": 45,
   "metadata": {},
   "outputs": [
    {
     "name": "stdout",
     "output_type": "stream",
     "text": [
      "None\nNone\nNone\nNone\nNone\nNone\nNone\nNone\nNone\nNone\nNone\nNone\nNone\nNone\nNone\nNone\nNone\nNone\nNone\nNone\nNone\nNone\nNone\nNone\nNone\nNone\nNone\nNone\nNone\nNone\nNone\nNone\nNone\nNone\nNone\nNone\nNone\nNone\nNone\nNone\nNone\nNone\nNone\nNone\nNone\nNone\nNone\nNone\nNone\nNone\nNone\nNone\n"
     ]
    },
    {
     "name": "stdout",
     "output_type": "stream",
     "text": [
      "None\nNone\nNone\nNone\nNone\nNone\nNone\nNone\nNone\nNone\nNone\nNone\nNone\nNone\nNone\nNone\nNone\nNone\nNone\nNone\nNone\nNone\nNone\nNone\nNone\nNone\nNone\nNone\nNone\nNone\nNone\nNone\nNone\nNone\nNone\nNone\nNone\nNone\nNone\nNone\nNone\nNone\nNone\nNone\nNone\nNone\nNone\nNone\nNone\nNone\nNone\nNone\nNone\nNone\n"
     ]
    },
    {
     "name": "stdout",
     "output_type": "stream",
     "text": [
      "None\nNone\nNone\nNone\nNone\nNone\nNone\nNone\nNone\nNone\nNone\nNone\nNone\nNone\nNone\nNone\nNone\nNone\nNone\nNone\nNone\nNone\nNone\nNone\nNone\nNone\nNone\nNone\nNone\nNone\nNone\nNone\nNone\nNone\nNone\nNone\nNone\nNone\nNone\nNone\nNone\nNone\nNone\nNone\nNone\nNone\nNone\nNone\nNone\nNone\nNone\nNone\nNone\nNone\nNone\nNone\n"
     ]
    },
    {
     "name": "stdout",
     "output_type": "stream",
     "text": [
      "None\nNone\nNone\nNone\nNone\nNone\nNone\nNone\nNone\nNone\nNone\nNone\nNone\nNone\nNone\nNone\nNone\nNone\nNone\nNone\nNone\nNone\nNone\nNone\nNone\nNone\nNone\nNone\nNone\nNone\nNone\nNone\nNone\nNone\nNone\nNone\nNone\nNone\nNone\nNone\nNone\nNone\nNone\nNone\nNone\nNone\nNone\nNone\nNone\nNone\nNone\nNone\nNone\nNone\nNone\nNone\nNone\nNone\n"
     ]
    },
    {
     "name": "stdout",
     "output_type": "stream",
     "text": [
      "None\nNone\nNone\nNone\nNone\nNone\nNone\nNone\nNone\nNone\nNone\nNone\nNone\nNone\nNone\nNone\nNone\nNone\nNone\nNone\nNone\nNone\nNone\nNone\nNone\nNone\nNone\nNone\nNone\nNone\nNone\nNone\nNone\nNone\nNone\nNone\nNone\nNone\nNone\nNone\nNone\nNone\nNone\nNone\nNone\nNone\nNone\nNone\nNone\nNone\nNone\nNone\nNone\nNone\nNone\nNone\nNone\nNone\nNone\n"
     ]
    },
    {
     "name": "stdout",
     "output_type": "stream",
     "text": [
      "None\nNone\nNone\nNone\nNone\nNone\nNone\nNone\nNone\nNone\nNone\nNone\nNone\nNone\nNone\nNone\nNone\nNone\nNone\nNone\nNone\nNone\nNone\nNone\nNone\nNone\nNone\nNone\nNone\nNone\nNone\nNone\nNone\nNone\nNone\nNone\nNone\nNone\nNone\nNone\nNone\nNone\nNone\nNone\nNone\nNone\nNone\nNone\nNone\nNone\nNone\nNone\nNone\n"
     ]
    },
    {
     "name": "stdout",
     "output_type": "stream",
     "text": [
      "None\nNone\nNone\nNone\nNone\nNone\nNone\nNone\nNone\nNone\nNone\nNone\nNone\nNone\nNone\nNone\nNone\nNone\nNone\nNone\nNone\nNone\nNone\nNone\nNone\nNone\nNone\nNone\nNone\nNone\nNone\nNone\nNone\nNone\nNone\nNone\nNone\nNone\nNone\nNone\nNone\nNone\nNone\nNone\nNone\nNone\nNone\nNone\nNone\nNone\nNone\nNone\nNone\nNone\nNone\nNone\n"
     ]
    },
    {
     "name": "stdout",
     "output_type": "stream",
     "text": [
      "None\nNone\nNone\nNone\nNone\nNone\nNone\nNone\nNone\nNone\nNone\nNone\nNone\nNone\nNone\nNone\nNone\nNone\nNone\nNone\nNone\nNone\nNone\nNone\nNone\nNone\nNone\nNone\nNone\nNone\nNone\nNone\nNone\nNone\nNone\nNone\nNone\nNone\nNone\nNone\nNone\nNone\nNone\nNone\nNone\nNone\nNone\nNone\nNone\nNone\nNone\nNone\nNone\nNone\nNone\nNone\nNone\n"
     ]
    },
    {
     "name": "stdout",
     "output_type": "stream",
     "text": [
      "None\nNone\nNone\nNone\nNone\nNone\nNone\nNone\nNone\nNone\nNone\nNone\nNone\nNone\nNone\nNone\nNone\nNone\nNone\nNone\nNone\nNone\nNone\nNone\nNone\nNone\nNone\nNone\nNone\nNone\nNone\nNone\nNone\nNone\nNone\nNone\nNone\nNone\nNone\nNone\nNone\nNone\nNone\n"
     ]
    }
   ],
   "source": [
    "for team in teams:\n",
    "    players = call_api(team['_links']['players']['href'], 'players')\n",
    "    # fixtures = call_api(team['_links']['fixtures']['href'], 'fixtures')\n",
    "    total_player_cost = 0\n",
    "    for player in players:\n",
    "        # print(player['marketValue'])\n",
    "        print (player['marketValue'])\n",
    "    # total_player_cost = players['squadMarketValue']\n",
    "    # print('Team \"{}\", total cost of players: {} euro'.format(team['name'], total_player_cost))\n",
    "    # team['players'] = players\n",
    "    # team['goals'] = goals"
   ]
  },
  {
   "cell_type": "code",
   "execution_count": 46,
   "metadata": {},
   "outputs": [],
   "source": []
  }
 ],
 "metadata": {},
 "nbformat": 4,
 "nbformat_minor": 2
}
