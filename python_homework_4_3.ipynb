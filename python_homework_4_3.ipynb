{
 "cells": [
  {
   "cell_type": "code",
   "execution_count": 101,
   "metadata": {},
   "outputs": [],
   "source": [
    "import requests\n",
    "\n",
    "import pandas as pd\n",
    "import numpy as np\n",
    "import matplotlib.pyplot as plt\n",
    "\n",
    "%matplotlib inline\n",
    "\n",
    "from scipy.cluster.vq import whiten, kmeans2\n",
    "from pprint import pprint"
   ]
  },
  {
   "cell_type": "code",
   "execution_count": 102,
   "metadata": {},
   "outputs": [],
   "source": [
    "def call_api(uri):\n",
    "    json = {}\n",
    "    try:\n",
    "        json = requests.get(uri, headers={'X-Auth-Token': '0b5ccea9ddd142bc9ad15998feb039a3'}).json()\n",
    "        return json\n",
    "    except:\n",
    "        print(json)\n",
    "        return None"
   ]
  },
  {
   "cell_type": "code",
   "execution_count": 103,
   "metadata": {
    "collapsed": true
   },
   "outputs": [
    {
     "data": {
      "text/plain": [
       "[{'_links': {'fixtures': {'href': 'http://api.football-data.org/v1/competitions/444/fixtures'},\n   'leagueTable': {'href': 'http://api.football-data.org/v1/competitions/444/leagueTable'},\n   'self': {'href': 'http://api.football-data.org/v1/competitions/444'},\n   'teams': {'href': 'http://api.football-data.org/v1/competitions/444/teams'}},\n  'caption': 'Campeonato Brasileiro da Série A',\n  'currentMatchday': 24,\n  'id': 444,\n  'lastUpdated': '2017-09-14T13:00:01Z',\n  'league': 'BSA',\n  'numberOfGames': 380,\n  'numberOfMatchdays': 38,\n  'numberOfTeams': 20,\n  'year': '2017'},\n {'_links': {'fixtures': {'href': 'http://api.football-data.org/v1/competitions/445/fixtures'},\n   'leagueTable': {'href': 'http://api.football-data.org/v1/competitions/445/leagueTable'},\n   'self': {'href': 'http://api.football-data.org/v1/competitions/445'},\n   'teams': {'href': 'http://api.football-data.org/v1/competitions/445/teams'}},\n  'caption': 'Premier League 2017/18',\n  'currentMatchday': 5,\n  'id': 445,\n  'lastUpdated': '2017-09-14T07:00:02Z',\n  'league': 'PL',\n  'numberOfGames': 380,\n  'numberOfMatchdays': 38,\n  'numberOfTeams': 20,\n  'year': '2017'},\n {'_links': {'fixtures': {'href': 'http://api.football-data.org/v1/competitions/446/fixtures'},\n   'leagueTable': {'href': 'http://api.football-data.org/v1/competitions/446/leagueTable'},\n   'self': {'href': 'http://api.football-data.org/v1/competitions/446'},\n   'teams': {'href': 'http://api.football-data.org/v1/competitions/446/teams'}},\n  'caption': 'Championship 2017/18',\n  'currentMatchday': 7,\n  'id': 446,\n  'lastUpdated': '2017-09-13T20:50:10Z',\n  'league': 'ELC',\n  'numberOfGames': 552,\n  'numberOfMatchdays': 46,\n  'numberOfTeams': 24,\n  'year': '2017'},\n {'_links': {'fixtures': {'href': 'http://api.football-data.org/v1/competitions/447/fixtures'},\n   'leagueTable': {'href': 'http://api.football-data.org/v1/competitions/447/leagueTable'},\n   'self': {'href': 'http://api.football-data.org/v1/competitions/447'},\n   'teams': {'href': 'http://api.football-data.org/v1/competitions/447/teams'}},\n  'caption': 'League One 2017/18',\n  'currentMatchday': 7,\n  'id': 447,\n  'lastUpdated': '2017-09-12T20:50:15Z',\n  'league': 'EL1',\n  'numberOfGames': 552,\n  'numberOfMatchdays': 46,\n  'numberOfTeams': 24,\n  'year': '2017'},\n {'_links': {'fixtures': {'href': 'http://api.football-data.org/v1/competitions/448/fixtures'},\n   'leagueTable': {'href': 'http://api.football-data.org/v1/competitions/448/leagueTable'},\n   'self': {'href': 'http://api.football-data.org/v1/competitions/448'},\n   'teams': {'href': 'http://api.football-data.org/v1/competitions/448/teams'}},\n  'caption': 'League Two 2017/18',\n  'currentMatchday': 7,\n  'id': 448,\n  'lastUpdated': '2017-09-12T21:10:09Z',\n  'league': 'EL2',\n  'numberOfGames': 552,\n  'numberOfMatchdays': 46,\n  'numberOfTeams': 24,\n  'year': '2017'},\n {'_links': {'fixtures': {'href': 'http://api.football-data.org/v1/competitions/449/fixtures'},\n   'leagueTable': {'href': 'http://api.football-data.org/v1/competitions/449/leagueTable'},\n   'self': {'href': 'http://api.football-data.org/v1/competitions/449'},\n   'teams': {'href': 'http://api.football-data.org/v1/competitions/449/teams'}},\n  'caption': 'Eredivisie 2017/18',\n  'currentMatchday': 5,\n  'id': 449,\n  'lastUpdated': '2017-09-13T04:00:07Z',\n  'league': 'DED',\n  'numberOfGames': 306,\n  'numberOfMatchdays': 34,\n  'numberOfTeams': 18,\n  'year': '2017'},\n {'_links': {'fixtures': {'href': 'http://api.football-data.org/v1/competitions/450/fixtures'},\n   'leagueTable': {'href': 'http://api.football-data.org/v1/competitions/450/leagueTable'},\n   'self': {'href': 'http://api.football-data.org/v1/competitions/450'},\n   'teams': {'href': 'http://api.football-data.org/v1/competitions/450/teams'}},\n  'caption': 'Ligue 1 2017/18',\n  'currentMatchday': 6,\n  'id': 450,\n  'lastUpdated': '2017-09-13T10:00:06Z',\n  'league': 'FL1',\n  'numberOfGames': 380,\n  'numberOfMatchdays': 38,\n  'numberOfTeams': 20,\n  'year': '2017'},\n {'_links': {'fixtures': {'href': 'http://api.football-data.org/v1/competitions/451/fixtures'},\n   'leagueTable': {'href': 'http://api.football-data.org/v1/competitions/451/leagueTable'},\n   'self': {'href': 'http://api.football-data.org/v1/competitions/451'},\n   'teams': {'href': 'http://api.football-data.org/v1/competitions/451/teams'}},\n  'caption': 'Ligue 2 2017/18',\n  'currentMatchday': 7,\n  'id': 451,\n  'lastUpdated': '2017-09-14T07:00:08Z',\n  'league': 'FL2',\n  'numberOfGames': 380,\n  'numberOfMatchdays': 38,\n  'numberOfTeams': 20,\n  'year': '2017'},\n {'_links': {'fixtures': {'href': 'http://api.football-data.org/v1/competitions/452/fixtures'},\n   'leagueTable': {'href': 'http://api.football-data.org/v1/competitions/452/leagueTable'},\n   'self': {'href': 'http://api.football-data.org/v1/competitions/452'},\n   'teams': {'href': 'http://api.football-data.org/v1/competitions/452/teams'}},\n  'caption': '1. Bundesliga 2017/18',\n  'currentMatchday': 4,\n  'id': 452,\n  'lastUpdated': '2017-09-13T07:00:08Z',\n  'league': 'BL1',\n  'numberOfGames': 306,\n  'numberOfMatchdays': 34,\n  'numberOfTeams': 18,\n  'year': '2017'},\n {'_links': {'fixtures': {'href': 'http://api.football-data.org/v1/competitions/453/fixtures'},\n   'leagueTable': {'href': 'http://api.football-data.org/v1/competitions/453/leagueTable'},\n   'self': {'href': 'http://api.football-data.org/v1/competitions/453'},\n   'teams': {'href': 'http://api.football-data.org/v1/competitions/453/teams'}},\n  'caption': '2. Bundesliga 2017/18',\n  'currentMatchday': 6,\n  'id': 453,\n  'lastUpdated': '2017-09-14T07:00:10Z',\n  'league': 'BL2',\n  'numberOfGames': 306,\n  'numberOfMatchdays': 34,\n  'numberOfTeams': 18,\n  'year': '2017'},\n {'_links': {'fixtures': {'href': 'http://api.football-data.org/v1/competitions/455/fixtures'},\n   'leagueTable': {'href': 'http://api.football-data.org/v1/competitions/455/leagueTable'},\n   'self': {'href': 'http://api.football-data.org/v1/competitions/455'},\n   'teams': {'href': 'http://api.football-data.org/v1/competitions/455/teams'}},\n  'caption': 'Primera Division 2017',\n  'currentMatchday': 4,\n  'id': 455,\n  'lastUpdated': '2017-09-14T07:00:12Z',\n  'league': 'PD',\n  'numberOfGames': 380,\n  'numberOfMatchdays': 38,\n  'numberOfTeams': 20,\n  'year': '2017'},\n {'_links': {'fixtures': {'href': 'http://api.football-data.org/v1/competitions/456/fixtures'},\n   'leagueTable': {'href': 'http://api.football-data.org/v1/competitions/456/leagueTable'},\n   'self': {'href': 'http://api.football-data.org/v1/competitions/456'},\n   'teams': {'href': 'http://api.football-data.org/v1/competitions/456/teams'}},\n  'caption': 'Serie A 2017/18',\n  'currentMatchday': 4,\n  'id': 456,\n  'lastUpdated': '2017-09-13T10:00:12Z',\n  'league': 'SA',\n  'numberOfGames': 380,\n  'numberOfMatchdays': 38,\n  'numberOfTeams': 20,\n  'year': '2017'},\n {'_links': {'fixtures': {'href': 'http://api.football-data.org/v1/competitions/457/fixtures'},\n   'leagueTable': {'href': 'http://api.football-data.org/v1/competitions/457/leagueTable'},\n   'self': {'href': 'http://api.football-data.org/v1/competitions/457'},\n   'teams': {'href': 'http://api.football-data.org/v1/competitions/457/teams'}},\n  'caption': 'Primeira Liga 2017/18',\n  'currentMatchday': 6,\n  'id': 457,\n  'lastUpdated': '2017-09-14T10:00:20Z',\n  'league': 'PPL',\n  'numberOfGames': 306,\n  'numberOfMatchdays': 34,\n  'numberOfTeams': 18,\n  'year': '2017'},\n {'_links': {'fixtures': {'href': 'http://api.football-data.org/v1/competitions/458/fixtures'},\n   'leagueTable': {'href': 'http://api.football-data.org/v1/competitions/458/leagueTable'},\n   'self': {'href': 'http://api.football-data.org/v1/competitions/458'},\n   'teams': {'href': 'http://api.football-data.org/v1/competitions/458/teams'}},\n  'caption': 'DFB-Pokal 2017/18',\n  'currentMatchday': 2,\n  'id': 458,\n  'lastUpdated': '2017-08-20T19:00:14Z',\n  'league': 'DFB',\n  'numberOfGames': 48,\n  'numberOfMatchdays': 6,\n  'numberOfTeams': 64,\n  'year': '2017'},\n {'_links': {'fixtures': {'href': 'http://api.football-data.org/v1/competitions/459/fixtures'},\n   'leagueTable': {'href': 'http://api.football-data.org/v1/competitions/459/leagueTable'},\n   'self': {'href': 'http://api.football-data.org/v1/competitions/459'},\n   'teams': {'href': 'http://api.football-data.org/v1/competitions/459/teams'}},\n  'caption': 'Serie B 2017/18',\n  'currentMatchday': 4,\n  'id': 459,\n  'lastUpdated': '2017-09-14T07:00:17Z',\n  'league': 'SB',\n  'numberOfGames': 462,\n  'numberOfMatchdays': 42,\n  'numberOfTeams': 22,\n  'year': '2017'},\n {'_links': {'fixtures': {'href': 'http://api.football-data.org/v1/competitions/464/fixtures'},\n   'leagueTable': {'href': 'http://api.football-data.org/v1/competitions/464/leagueTable'},\n   'self': {'href': 'http://api.football-data.org/v1/competitions/464'},\n   'teams': {'href': 'http://api.football-data.org/v1/competitions/464/teams'}},\n  'caption': 'Champions League 2017/18',\n  'currentMatchday': 1,\n  'id': 464,\n  'lastUpdated': '2017-09-13T20:50:12Z',\n  'league': 'CL',\n  'numberOfGames': 96,\n  'numberOfMatchdays': 10,\n  'numberOfTeams': 32,\n  'year': '2017'},\n {'_links': {'fixtures': {'href': 'http://api.football-data.org/v1/competitions/466/fixtures'},\n   'leagueTable': {'href': 'http://api.football-data.org/v1/competitions/466/leagueTable'},\n   'self': {'href': 'http://api.football-data.org/v1/competitions/466'},\n   'teams': {'href': 'http://api.football-data.org/v1/competitions/466/teams'}},\n  'caption': 'Australian A-League',\n  'currentMatchday': 1,\n  'id': 466,\n  'lastUpdated': '2017-09-07T08:00:09Z',\n  'league': 'AAL',\n  'numberOfGames': 135,\n  'numberOfMatchdays': 27,\n  'numberOfTeams': 10,\n  'year': '2017'}]"
      ]
     },
     "execution_count": 103,
     "metadata": {},
     "output_type": "execute_result"
    }
   ],
   "source": [
    "competitions = call_api('http://api.football-data.org/v1/competitions')\n",
    "competitions"
   ]
  },
  {
   "cell_type": "code",
   "execution_count": 106,
   "metadata": {
    "collapsed": true
   },
   "outputs": [],
   "source": [
    "# teams = call_api('http://api.football-data.org/v1/competitions/444/teams')\n",
    "# teams"
   ]
  },
  {
   "cell_type": "code",
   "execution_count": 105,
   "metadata": {},
   "outputs": [
    {
     "name": "stdout",
     "output_type": "stream",
     "text": [
      "Campeonato Brasileiro da Série A, date: 2017, games played: 380\nPremier League 2017/18, date: 2017, games played: 380\nChampionship 2017/18, date: 2017, games played: 552\nLeague One 2017/18, date: 2017, games played: 552\nLeague Two 2017/18, date: 2017, games played: 552\nEredivisie 2017/18, date: 2017, games played: 306\nLigue 1 2017/18, date: 2017, games played: 380\nLigue 2 2017/18, date: 2017, games played: 380\n1. Bundesliga 2017/18, date: 2017, games played: 306\n2. Bundesliga 2017/18, date: 2017, games played: 306\nPrimera Division 2017, date: 2017, games played: 380\nSerie A 2017/18, date: 2017, games played: 380\nPrimeira Liga 2017/18, date: 2017, games played: 306\nDFB-Pokal 2017/18, date: 2017, games played: 48\nSerie B 2017/18, date: 2017, games played: 462\nChampions League 2017/18, date: 2017, games played: 96\nAustralian A-League, date: 2017, games played: 135\n"
     ]
    }
   ],
   "source": [
    "for competition in competitions:\n",
    "    print(\"{}, date: {}, games played: {}\".format(competition['caption'], competition['year'], competition['numberOfGames']))"
   ]
  },
  {
   "cell_type": "code",
   "execution_count": 106,
   "metadata": {},
   "outputs": [],
   "source": []
  }
 ],
 "metadata": {},
 "nbformat": 4,
 "nbformat_minor": 2
}
